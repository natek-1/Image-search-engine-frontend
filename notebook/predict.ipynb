{
 "cells": [
  {
   "cell_type": "code",
   "execution_count": 1,
   "metadata": {},
   "outputs": [],
   "source": [
    "import torch\n",
    "from torch import nn\n"
   ]
  },
  {
   "cell_type": "code",
   "execution_count": 1,
   "metadata": {},
   "outputs": [
    {
     "name": "stdout",
     "output_type": "stream",
     "text": [
      "torch.Size([1, 3, 300, 272])\n"
     ]
    }
   ],
   "source": [
    "from PIL import Image\n",
    "import torchvision.transforms as transforms\n",
    "import torch\n",
    "from src.components.predict import Prediction\n",
    "import numpy as np\n",
    "\n",
    "# Load the image\n",
    "image_path = '../data/raw/images/wheelchair/image_0005.jpg'\n",
    "image = Image.open(image_path)\n",
    "\n",
    "# Define the transformation to convert the image to a tensor\n",
    "transform = transforms.ToTensor()\n",
    "\n",
    "# Apply the transformation\n",
    "image_tensor = transform(image)\n",
    "\n",
    "# Optionally, if you need to add a batch dimension\n",
    "image_tensor = image_tensor.unsqueeze(0)\n",
    "\n",
    "print(image_tensor.shape)  # Output: torch.Size([1, 3, H, W]) for RGB image\n"
   ]
  },
  {
   "cell_type": "code",
   "execution_count": 2,
   "metadata": {},
   "outputs": [
    {
     "name": "stderr",
     "output_type": "stream",
     "text": [
      "Using cache found in /Users/ngkuissi/Dev/projects/Image-search-engine-frontend/artifacts/pytorch_vision_v0.13.0\n"
     ]
    },
    {
     "data": {
      "text/plain": [
       "['https://imagesearchengine.s3.us-west-2.amazonaws.com/images/wheelchair/image_0005.jpg',\n",
       " 'https://imagesearchengine.s3.us-west-2.amazonaws.com/images/wheelchair/image_0005.jpg',\n",
       " 'https://imagesearchengine.s3.us-west-2.amazonaws.com/images/wheelchair/image_0005.jpg',\n",
       " 'https://imagesearchengine.s3.us-west-2.amazonaws.com/images/wheelchair/image_0046.jpg',\n",
       " 'https://imagesearchengine.s3.us-west-2.amazonaws.com/images/wheelchair/image_0046.jpg',\n",
       " 'https://imagesearchengine.s3.us-west-2.amazonaws.com/images/wheelchair/image_0046.jpg',\n",
       " 'https://imagesearchengine.s3.us-west-2.amazonaws.com/images/wheelchair/image_0027.jpg',\n",
       " 'https://imagesearchengine.s3.us-west-2.amazonaws.com/images/wheelchair/image_0027.jpg',\n",
       " 'https://imagesearchengine.s3.us-west-2.amazonaws.com/images/wheelchair/image_0027.jpg',\n",
       " 'https://imagesearchengine.s3.us-west-2.amazonaws.com/images/wheelchair/image_0019.jpg',\n",
       " 'https://imagesearchengine.s3.us-west-2.amazonaws.com/images/wheelchair/image_0019.jpg',\n",
       " 'https://imagesearchengine.s3.us-west-2.amazonaws.com/images/wheelchair/image_0019.jpg',\n",
       " 'https://imagesearchengine.s3.us-west-2.amazonaws.com/images/wheelchair/image_0039.jpg',\n",
       " 'https://imagesearchengine.s3.us-west-2.amazonaws.com/images/wheelchair/image_0039.jpg',\n",
       " 'https://imagesearchengine.s3.us-west-2.amazonaws.com/images/wheelchair/image_0039.jpg',\n",
       " 'https://imagesearchengine.s3.us-west-2.amazonaws.com/images/wheelchair/image_0054.jpg',\n",
       " 'https://imagesearchengine.s3.us-west-2.amazonaws.com/images/wheelchair/image_0054.jpg',\n",
       " 'https://imagesearchengine.s3.us-west-2.amazonaws.com/images/wheelchair/image_0054.jpg',\n",
       " 'https://imagesearchengine.s3.us-west-2.amazonaws.com/images/wheelchair/image_0032.jpg',\n",
       " 'https://imagesearchengine.s3.us-west-2.amazonaws.com/images/wheelchair/image_0032.jpg']"
      ]
     },
     "execution_count": 2,
     "metadata": {},
     "output_type": "execute_result"
    }
   ],
   "source": [
    "predict = Prediction()\n",
    "image = torch.from_numpy(np.array(predict.transforms(image)))\n",
    "image = image.reshape(1, 3, 256, 256)\n",
    "embedding = predict.generate_embeddings(image)\n",
    "predict.generate_links(embedding[0])\n"
   ]
  },
  {
   "cell_type": "code",
   "execution_count": 10,
   "metadata": {},
   "outputs": [
    {
     "name": "stdout",
     "output_type": "stream",
     "text": [
      "<class 'torch.Tensor'>\n",
      "cpu\n",
      "mps\n"
     ]
    }
   ],
   "source": [
    "print(type(image))\n",
    "print(next(predict.estimator.parameters()).device)\n",
    "print(predict.device)"
   ]
  },
  {
   "cell_type": "code",
   "execution_count": 12,
   "metadata": {},
   "outputs": [],
   "source": [
    "predict.estimator = predict.estimator.to(predict.device)"
   ]
  },
  {
   "cell_type": "code",
   "execution_count": null,
   "metadata": {},
   "outputs": [],
   "source": []
  }
 ],
 "metadata": {
  "kernelspec": {
   "display_name": "Python 3",
   "language": "python",
   "name": "python3"
  },
  "language_info": {
   "codemirror_mode": {
    "name": "ipython",
    "version": 3
   },
   "file_extension": ".py",
   "mimetype": "text/x-python",
   "name": "python",
   "nbconvert_exporter": "python",
   "pygments_lexer": "ipython3",
   "version": "3.8.19"
  },
  "orig_nbformat": 4
 },
 "nbformat": 4,
 "nbformat_minor": 2
}
